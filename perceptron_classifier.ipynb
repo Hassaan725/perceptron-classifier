{
  "nbformat": 4,
  "nbformat_minor": 0,
  "metadata": {
    "colab": {
      "provenance": []
    },
    "kernelspec": {
      "name": "python3",
      "display_name": "Python 3"
    },
    "language_info": {
      "name": "python"
    }
  },
  "cells": [
    {
      "cell_type": "code",
      "execution_count": null,
      "metadata": {
        "id": "iRIGeYsFGJcx"
      },
      "outputs": [],
      "source": [
        "import numpy as np\n"
      ]
    },
    {
      "cell_type": "code",
      "source": [
        "C1 = [(1, 1, 1), (1, 1, -1), (1, 0, -1)]\n",
        "C2 = [(1, -1, -1), (1, -1, 1), (1, 0, 1)]\n",
        "data= C1+C2\n",
        "labels=[1,1,1,0,0,0]"
      ],
      "metadata": {
        "id": "VqyDAHGSHRsp"
      },
      "execution_count": null,
      "outputs": []
    },
    {
      "cell_type": "markdown",
      "source": [
        "**Iteration 1**"
      ],
      "metadata": {
        "id": "mxleyIgHb6wE"
      }
    },
    {
      "cell_type": "code",
      "source": [
        "x1=1\n",
        "x2=1\n",
        "x3=1\n",
        "w1=1\n",
        "w2=0\n",
        "w3=0\n",
        "d1=1\n",
        "print('Desired:',d1)\n",
        "result= w1*x1+ w2*x2+w3*x3\n",
        "print('Obtained_Result;',result)\n",
        "error=d1-result\n",
        "print ('Error:',error)\n"
      ],
      "metadata": {
        "colab": {
          "base_uri": "https://localhost:8080/"
        },
        "id": "mQSLX8HcIvKB",
        "outputId": "6136fe01-4c93-4dcc-dc86-546bcb011e64"
      },
      "execution_count": null,
      "outputs": [
        {
          "output_type": "stream",
          "name": "stdout",
          "text": [
            "Desired: 1\n",
            "Obtained_Result; 1\n",
            "Error: 0\n"
          ]
        }
      ]
    },
    {
      "cell_type": "markdown",
      "source": [
        "**Iteration 2**"
      ],
      "metadata": {
        "id": "q2Te4yZ3b_Zs"
      }
    },
    {
      "cell_type": "code",
      "source": [
        "x1=1\n",
        "x2=1\n",
        "x3=-1\n",
        "w4=1\n",
        "w5=0\n",
        "w6=0\n",
        "d2=1\n",
        "print('Desired:',d2)\n",
        "result= w4*x4+ w5*x5+w6*x6\n",
        "print('Obtained_Result;',result)\n",
        "error=d2-result\n",
        "print ('Error:',error)"
      ],
      "metadata": {
        "id": "NUO4C7WkJPuI",
        "colab": {
          "base_uri": "https://localhost:8080/"
        },
        "outputId": "348343a7-76c4-464d-da7f-cb7918892908"
      },
      "execution_count": null,
      "outputs": [
        {
          "output_type": "stream",
          "name": "stdout",
          "text": [
            "Desired: 1\n",
            "Obtained_Result; 1\n",
            "Error: 0\n"
          ]
        }
      ]
    },
    {
      "cell_type": "markdown",
      "source": [
        "**Iteration 3**"
      ],
      "metadata": {
        "id": "-icaO2L5cDOE"
      }
    },
    {
      "cell_type": "code",
      "source": [
        "x7=1\n",
        "x8=0\n",
        "x9=-1\n",
        "w7=1\n",
        "w8=0\n",
        "w9=0\n",
        "d3=1\n",
        "print('Desired:',d3)\n",
        "result= w7*x7+ w8*x8+w9*x9\n",
        "print('Obtained_Result;',result)\n",
        "error=d3-result\n",
        "print ('Error:',error)"
      ],
      "metadata": {
        "colab": {
          "base_uri": "https://localhost:8080/"
        },
        "id": "GpNfzTbALxOx",
        "outputId": "0774f73f-deb3-468d-b013-9e37510c507a"
      },
      "execution_count": null,
      "outputs": [
        {
          "output_type": "stream",
          "name": "stdout",
          "text": [
            "Desired: 1\n",
            "Obtained_Result; 1\n",
            "Error: 0\n"
          ]
        }
      ]
    },
    {
      "cell_type": "markdown",
      "source": [
        "**Iteration 4**"
      ],
      "metadata": {
        "id": "e9Sv7PxYcHO0"
      }
    },
    {
      "cell_type": "code",
      "source": [
        "x10=1\n",
        "x11=-1\n",
        "x12=-1\n",
        "w10=1\n",
        "w11=0\n",
        "w12=0\n",
        "d4=0\n",
        "print('Desired:',d4)\n",
        "result= w10*x10+ w11*x11+w12*x12\n",
        "print('Obtained_Result;',result)\n",
        "error=d4-result\n",
        "print ('Error:',error)\n",
        "\n"
      ],
      "metadata": {
        "colab": {
          "base_uri": "https://localhost:8080/"
        },
        "id": "5gQr7VhPMC_3",
        "outputId": "28d796bf-7f3c-4e7a-9687-032c4439a32a"
      },
      "execution_count": null,
      "outputs": [
        {
          "output_type": "stream",
          "name": "stdout",
          "text": [
            "Desired: 0\n",
            "Obtained_Result; 1\n",
            "Error: -1\n"
          ]
        }
      ]
    },
    {
      "cell_type": "code",
      "source": [
        "x10=1\n",
        "x11=-1\n",
        "x12=-1\n",
        "\n",
        "y1=0\n",
        "desired_1=0\n",
        "eta=1\n",
        "theta=0.5\n",
        "\n",
        "\n",
        "y1=(w1*x10)+(w2*x11)+(x3*w12)\n",
        "if(y1<=theta):\n",
        "  y1=0\n",
        "\n",
        "else:\n",
        "  y1=1\n",
        "print('Obtained: ',y1)\n",
        "\n",
        "if(y1==desired_1):\n",
        "  print(\"No Updation needed:\")\n",
        "else:\n",
        "  print(\"Updation needed:\")\n",
        "\n",
        "\n",
        "error_1=desired_1-y1\n",
        "print('error: ',error_1)\n",
        "\n",
        "w1 = w1 +(eta*error_1*x10)\n",
        "\n",
        "w2 = w2 + (eta*error_1*x11)\n",
        "\n",
        "w3 = w3 + (eta*error_1*x12)\n",
        "\n",
        "print(\"New weights:\")\n",
        "print(w1)\n",
        "print(w2)\n",
        "print(w3)\n",
        "\n",
        "y1=(w1*x1)+(w2*x2)+(x3*w3)\n",
        "\n",
        "if(y1<=theta):\n",
        "  y1=0\n",
        "\n",
        "else:\n",
        "  y1=1\n",
        "\n",
        "print('Obtained: ',y1)"
      ],
      "metadata": {
        "colab": {
          "base_uri": "https://localhost:8080/"
        },
        "id": "X9YHVwQGZHPe",
        "outputId": "753dd4cf-605d-42cb-d158-6f8cf3a47731"
      },
      "execution_count": null,
      "outputs": [
        {
          "output_type": "stream",
          "name": "stdout",
          "text": [
            "Obtained:  0\n",
            "No Updation needed:\n",
            "error:  0\n",
            "New weights:\n",
            "-3\n",
            "4\n",
            "4\n",
            "Obtained:  0\n"
          ]
        }
      ]
    },
    {
      "cell_type": "markdown",
      "source": [
        "**Iteration 5**"
      ],
      "metadata": {
        "id": "SamWyd67cL41"
      }
    },
    {
      "cell_type": "code",
      "source": [
        "x13=1\n",
        "x14=-1\n",
        "x15=1\n",
        "w13=0\n",
        "w14=1\n",
        "w15=1\n",
        "d5=0\n",
        "print('Desired:',d5)\n",
        "result= w13*x13+ w14*x14+w15*x15\n",
        "print('Obtained_Result;',result)\n",
        "error=d5-result\n",
        "print ('Error:',error)"
      ],
      "metadata": {
        "colab": {
          "base_uri": "https://localhost:8080/"
        },
        "id": "CDe48ix6MzoZ",
        "outputId": "464ac543-1c82-4daa-e7d7-23b3df53abf6"
      },
      "execution_count": null,
      "outputs": [
        {
          "output_type": "stream",
          "name": "stdout",
          "text": [
            "Desired: 0\n",
            "Obtained_Result; 0\n",
            "Error: 0\n"
          ]
        }
      ]
    },
    {
      "cell_type": "markdown",
      "source": [
        "**Iteration 6**"
      ],
      "metadata": {
        "id": "9-9OFad4dT9t"
      }
    },
    {
      "cell_type": "code",
      "source": [
        "x16=1\n",
        "x17=0\n",
        "x18=1\n",
        "w16=0\n",
        "w17=1\n",
        "w18=1\n",
        "d5=0\n",
        "print('Desired:',d5)\n",
        "result= w16*x16+ w17*x17+w18*x18\n",
        "print('Obtained_Result;',result)\n",
        "error=d5-result\n",
        "print ('Error:',error)"
      ],
      "metadata": {
        "colab": {
          "base_uri": "https://localhost:8080/"
        },
        "id": "WgV8Q9JfNbWv",
        "outputId": "ad178d29-c650-4cab-abc8-0936dd3e09f0"
      },
      "execution_count": null,
      "outputs": [
        {
          "output_type": "stream",
          "name": "stdout",
          "text": [
            "Desired: 0\n",
            "Obtained_Result; 1\n",
            "Error: -1\n"
          ]
        }
      ]
    },
    {
      "cell_type": "code",
      "source": [
        "x16=1\n",
        "x17=0\n",
        "x18=1\n",
        "\n",
        "y1=0\n",
        "desired_1=0\n",
        "eta=1\n",
        "theta=0.5\n",
        "\n",
        "\n",
        "y1=(w1*x16)+(w2*x17)+(x3*w18)\n",
        "if(y1<=theta):\n",
        "  y1=0\n",
        "\n",
        "else:\n",
        "  y1=1\n",
        "print('Obtained: ',y1)\n",
        "\n",
        "if(y1==desired_1):\n",
        "  print(\"No Updation needed:\")\n",
        "else:\n",
        "  print(\"Updation needed:\")\n",
        "\n",
        "\n",
        "error_1=desired_1-y1\n",
        "print('error: ',error_1)\n",
        "\n",
        "w1 = w1 +(eta*error_1*x1)\n",
        "\n",
        "w2 = w2 + (eta*error_1*x2)\n",
        "\n",
        "w3 = w3 + (eta*error_1*x3)\n",
        "print(\"New weights:\")\n",
        "print(w1)\n",
        "print(w2)\n",
        "print(w3)\n",
        "\n",
        "\n",
        "y1=(w1*x1)+(w2*x2)+(x3*w3)\n",
        "\n",
        "if(y1<=theta):\n",
        "  y1=0\n",
        "\n",
        "else:\n",
        "  y1=1\n",
        "\n",
        "print('Obtained: ',y1)"
      ],
      "metadata": {
        "colab": {
          "base_uri": "https://localhost:8080/"
        },
        "id": "AJrbTy8UONkg",
        "outputId": "3e8614bd-c91f-4f7f-d066-89b28089f3af"
      },
      "execution_count": null,
      "outputs": [
        {
          "output_type": "stream",
          "name": "stdout",
          "text": [
            "Obtained:  0\n",
            "No Updation needed:\n",
            "error:  0\n",
            "New weights:\n",
            "-2\n",
            "3\n",
            "3\n",
            "Obtained:  0\n"
          ]
        }
      ]
    },
    {
      "cell_type": "code",
      "source": [],
      "metadata": {
        "id": "9iavSAHXPnFn"
      },
      "execution_count": null,
      "outputs": []
    },
    {
      "cell_type": "code",
      "source": [],
      "metadata": {
        "id": "Kw6Vc__gTWS3"
      },
      "execution_count": null,
      "outputs": []
    }
  ]
}